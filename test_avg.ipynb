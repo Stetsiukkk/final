{
 "cells": [
  {
   "cell_type": "code",
   "execution_count": 2,
   "id": "92ac9e46-a26e-4155-942c-d8f4aeb285dd",
   "metadata": {},
   "outputs": [],
   "source": [
    "from tensorflow.keras.models import Sequential\n",
    "from tensorflow.keras.layers import Conv2D, MaxPooling2D, Flatten, Dense, Dropout\n",
    "from tensorflow.keras.models import Sequential\n",
    "from tensorflow.keras.layers import LSTM, Dense, Input\n",
    "from tensorflow.keras.models import load_model\n",
    "import numpy as np\n",
    "import os\n",
    "import librosa\n",
    "import librosa.display\n",
    "import matplotlib.pyplot as plt\n",
    "import pandas as pd\n",
    "from tensorflow.keras.models import load_model "
   ]
  },
  {
   "cell_type": "code",
   "execution_count": 3,
   "id": "8628f5ac-b6ff-441a-8b0d-b7232bbca268",
   "metadata": {},
   "outputs": [],
   "source": [
    "model = load_model(\"LSTM_Mel_Spec-05.keras\")"
   ]
  },
  {
   "cell_type": "code",
   "execution_count": 4,
   "id": "ee7d5eea-f1dc-4a91-9f29-a1a1df244a01",
   "metadata": {},
   "outputs": [],
   "source": [
    "# model = load_model(\"CNN_Spec_DB-05.keras\")"
   ]
  },
  {
   "cell_type": "code",
   "execution_count": 5,
   "id": "3a2575d4-61ce-48a6-967f-9c50b669ea10",
   "metadata": {},
   "outputs": [],
   "source": [
    "real_path = r\"\\for-2seconds\\testing\\real\"\n",
    "fake_path = r\"\\for-2seconds\\testing\\fake\"\n",
    "\n",
    "real = []\n",
    "fake = []\n",
    "\n",
    "mreal_path = r\"\\for-2seconds\\mixed\\real\"\n",
    "mfake_path = r\"\\for-2seconds\\mixed\\fake\""
   ]
  },
  {
   "cell_type": "code",
   "execution_count": 24,
   "id": "17966364-4591-4751-8e12-a1c5ba08f487",
   "metadata": {},
   "outputs": [],
   "source": [
    "# Spec 0.5\n",
    "\n",
    "# def get_data(folder_path):\n",
    "#     specs = []    \n",
    "#     for filename in os.listdir(folder_path):\n",
    "#         audio, sr = librosa.load(os.path.join(folder_path, filename), sr=None)\n",
    "#         audio_parts = np.array_split(audio, 4)\n",
    "#         for part in audio_parts:\n",
    "#             spectrogram = abs(librosa.stft(y=part))\n",
    "#             spectrogram = librosa.amplitude_to_db(spectrogram, ref=np.max)\n",
    "#             specs.append(spectrogram)\n",
    "#     return specs\n",
    "\n",
    "# Mel-spectrogram 0.5\n",
    "\n",
    "def get_data(folder_path):\n",
    "    mel_specs = []\n",
    "    for filename in os.listdir(folder_path):\n",
    "        audio, sr = librosa.load(os.path.join(folder_path, filename), sr=None)\n",
    "        audio_parts = np.array_split(audio, 4)\n",
    "        for part in audio_parts:\n",
    "            mel_spec = librosa.feature.melspectrogram(y=part, sr=sr)\n",
    "            # mel_spec = librosa.power_to_db(mel_spec, ref=np.max)\n",
    "            mel_specs.append(mel_spec)\n",
    "    return mel_specs\n"
   ]
  },
  {
   "cell_type": "code",
   "execution_count": 25,
   "id": "a8e8540e-084e-41f2-ab7d-d009809d1545",
   "metadata": {},
   "outputs": [],
   "source": [
    "# real = get_data(mreal_path)\n",
    "# fake = get_data(mfake_path)"
   ]
  },
  {
   "cell_type": "code",
   "execution_count": 26,
   "id": "2b5f8a1c-b7fb-43d2-80e5-f2cce251c676",
   "metadata": {},
   "outputs": [],
   "source": [
    "real = get_data(real_path)\n",
    "fake = get_data(fake_path)"
   ]
  },
  {
   "cell_type": "code",
   "execution_count": 27,
   "id": "60446e15-c19d-4b03-a51d-cd384a3a0d62",
   "metadata": {},
   "outputs": [
    {
     "name": "stdout",
     "output_type": "stream",
     "text": [
      "2176\n",
      "\u001b[1m68/68\u001b[0m \u001b[32m━━━━━━━━━━━━━━━━━━━━\u001b[0m\u001b[37m\u001b[0m \u001b[1m1s\u001b[0m 8ms/step\n",
      "\u001b[1m68/68\u001b[0m \u001b[32m━━━━━━━━━━━━━━━━━━━━\u001b[0m\u001b[37m\u001b[0m \u001b[1m1s\u001b[0m 7ms/step\n"
     ]
    }
   ],
   "source": [
    "testR=np.array(real)\n",
    "testF=np.array(fake)\n",
    "print(len(real))\n",
    "\n",
    "predR = model.predict(testR)\n",
    "predF = model.predict(testF)"
   ]
  },
  {
   "cell_type": "code",
   "execution_count": 28,
   "id": "3e3b2737-b589-40c8-8115-2aad48bc1e75",
   "metadata": {},
   "outputs": [
    {
     "name": "stdout",
     "output_type": "stream",
     "text": [
      "Кількість справжніх: 1584 з 2176\n",
      "Кількість фальшивих: 1652 з 2176\n",
      "74.36%\n"
     ]
    }
   ],
   "source": [
    "threshold = 0.5\n",
    "\n",
    "binary_predictionsR = [1 if pr < threshold else 0 for pr in predR]\n",
    "\n",
    "real_count = sum(binary_predictionsR)\n",
    "\n",
    "binary_predictionsF = [1 if pr > threshold else 0 for pr in predF]\n",
    "\n",
    "fake_count = sum(binary_predictionsF)\n",
    "\n",
    "print(\"Кількість справжніх:\", real_count, \"з\", len(predR))\n",
    "print(\"Кількість фальшивих:\", fake_count, \"з\", len(predF))\n",
    "acc = (real_count + fake_count) / (len(real)+len(fake))\n",
    "acc = \"{:.2f}\".format(acc*100)\n",
    "print(acc + \"%\")"
   ]
  },
  {
   "cell_type": "code",
   "execution_count": 29,
   "id": "6179c48a-78da-48fd-a1ea-63ebc4f00f66",
   "metadata": {},
   "outputs": [
    {
     "name": "stdout",
     "output_type": "stream",
     "text": [
      "[[1584  592]\n",
      " [ 524 1652]]\n"
     ]
    }
   ],
   "source": [
    "from sklearn.metrics import confusion_matrix\n",
    "real_true_labels = [0] * len(real)\n",
    "fake_true_labels = [1] * len(fake)\n",
    "\n",
    "all_predicted_labels = np.concatenate((predR, predF))\n",
    "all_predicted_labels = np.where(all_predicted_labels < 0.5, 0, 1)\n",
    "all_true_labels = real_true_labels + fake_true_labels\n",
    "\n",
    "conf_matrix = confusion_matrix(all_true_labels, all_predicted_labels)\n",
    "print(conf_matrix)"
   ]
  },
  {
   "cell_type": "code",
   "execution_count": 30,
   "id": "d662031c-1af4-4436-a07c-4b23be83c4d9",
   "metadata": {},
   "outputs": [],
   "source": [
    "import pandas as pd\n",
    "\n",
    "# pd.DataFrame(predR).to_csv('LSTM_MpredR.csv', index=False)\n",
    "# pd.DataFrame(predF).to_csv('LSTM_MpredF.csv', index=False)\n",
    "\n",
    "pd.DataFrame(predR).to_csv('LSTM_predR.csv', index=False)\n",
    "pd.DataFrame(predF).to_csv('LSTM_predF.csv', index=False)\n",
    "\n",
    "# loaded_predR = pd.read_csv('predR.csv').values\n",
    "# loaded_predF = pd.read_csv('predF.csv').values\n"
   ]
  },
  {
   "cell_type": "code",
   "execution_count": 6,
   "id": "985afac4-0822-4779-859a-879ab0f79381",
   "metadata": {},
   "outputs": [],
   "source": [
    "loaded_predR = pd.read_csv('MpredR.csv').values\n",
    "loaded_predF = pd.read_csv('MpredF.csv').values\n",
    "\n",
    "LSTMloaded_predR = pd.read_csv('LSTM_MpredR.csv').values\n",
    "LSTMloaded_predF = pd.read_csv('LSTM_MpredF.csv').values\n",
    "\n",
    "# loaded_predR = pd.read_csv('LSTM_MpredR.csv').values\n",
    "# loaded_predF = pd.read_csv('LSTM_MpredF.csv').values"
   ]
  },
  {
   "cell_type": "code",
   "execution_count": 7,
   "id": "cb4c6af2-7d20-4ebc-97b6-2e03e5329834",
   "metadata": {},
   "outputs": [
    {
     "data": {
      "text/plain": [
       "array([[4.1893510e-03],\n",
       "       [4.1126664e-04],\n",
       "       [8.3303110e-05],\n",
       "       ...,\n",
       "       [2.3669256e-01],\n",
       "       [2.3844436e-01],\n",
       "       [4.1806522e-01]])"
      ]
     },
     "execution_count": 7,
     "metadata": {},
     "output_type": "execute_result"
    }
   ],
   "source": [
    "loaded_predR"
   ]
  },
  {
   "cell_type": "code",
   "execution_count": 8,
   "id": "fc7ffc37-4410-408f-98b2-c17409e0de23",
   "metadata": {},
   "outputs": [
    {
     "data": {
      "text/plain": [
       "array([[0.8749963],\n",
       "       [0.1783164],\n",
       "       [0.9254462],\n",
       "       ...,\n",
       "       [1.       ],\n",
       "       [1.       ],\n",
       "       [1.       ]])"
      ]
     },
     "execution_count": 8,
     "metadata": {},
     "output_type": "execute_result"
    }
   ],
   "source": [
    "loaded_predF"
   ]
  },
  {
   "cell_type": "code",
   "execution_count": 9,
   "id": "4b3b1d79-cbf6-4184-b958-d725d583545c",
   "metadata": {},
   "outputs": [],
   "source": [
    "groupR1 = np.reshape(loaded_predR, (-1, 4))\n",
    "groupR2 = np.reshape(LSTMloaded_predR, (-1, 4))\n",
    "\n",
    "\n",
    "groupF1 = np.reshape(loaded_predF, (-1, 4))\n",
    "groupF2 = np.reshape(LSTMloaded_predF, (-1, 4))\n",
    "\n",
    "\n",
    "combined1 = np.hstack((groupedR1, groupedR2))\n",
    "combined2 = np.hstack((groupedF1, groupedF2))\n",
    "\n",
    "meansR = np.mean(combined1, axis=1)\n",
    "\n",
    "meansF = np.mean(combined2, axis=1)\n"
   ]
  },
  {
   "cell_type": "code",
   "execution_count": 10,
   "id": "ef324cf6-a87b-4bf9-b189-a9b6b3227319",
   "metadata": {},
   "outputs": [
    {
     "name": "stdout",
     "output_type": "stream",
     "text": [
      "Кількість справжніх: 1597 з 1614\n",
      "Кількість фальшивих: 1562 з 1614\n",
      "97.86%\n"
     ]
    }
   ],
   "source": [
    "threshold = 0.5\n",
    "\n",
    "binary_predictionsR = [1 if pr < threshold else 0 for pr in meansR]\n",
    "\n",
    "real_count = sum(binary_predictionsR)\n",
    "\n",
    "binary_predictionsF = [1 if pr > threshold else 0 for pr in meansF]\n",
    "\n",
    "fake_count = sum(binary_predictionsF)\n",
    "\n",
    "print(\"Кількість справжніх:\", real_count, \"з\", len(meansR))\n",
    "print(\"Кількість фальшивих:\", fake_count, \"з\", len(meansF))\n",
    "acc = (real_count + fake_count) / (len(meansR)+len(meansF))\n",
    "acc = \"{:.2f}\".format(acc*100)\n",
    "print(acc + \"%\")"
   ]
  },
  {
   "cell_type": "code",
   "execution_count": null,
   "id": "138cb889-9191-4fa2-b980-badb431e0ab0",
   "metadata": {},
   "outputs": [],
   "source": []
  },
  {
   "cell_type": "code",
   "execution_count": null,
   "id": "94a250e6-94ca-4d01-91d1-64296edb8970",
   "metadata": {},
   "outputs": [],
   "source": []
  }
 ],
 "metadata": {
  "kernelspec": {
   "display_name": "Python 3 (ipykernel)",
   "language": "python",
   "name": "python3"
  },
  "language_info": {
   "codemirror_mode": {
    "name": "ipython",
    "version": 3
   },
   "file_extension": ".py",
   "mimetype": "text/x-python",
   "name": "python",
   "nbconvert_exporter": "python",
   "pygments_lexer": "ipython3",
   "version": "3.11.8"
  }
 },
 "nbformat": 4,
 "nbformat_minor": 5
}
