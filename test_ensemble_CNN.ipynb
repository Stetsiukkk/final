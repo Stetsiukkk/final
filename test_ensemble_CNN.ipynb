{
 "cells": [
  {
   "cell_type": "code",
   "execution_count": null,
   "id": "8f903846-e403-4599-a8c2-5e385bf12a35",
   "metadata": {},
   "outputs": [],
   "source": [
    "import os\n",
    "import librosa\n",
    "import librosa.display\n",
    "import matplotlib.pyplot as plt\n",
    "import numpy as np\n",
    "\n",
    "real_path = r\"\\for-2seconds\\training\\real\"\n",
    "fake_path = r\"\\for-2seconds\\training\\fake\"\n",
    "real = []\n",
    "fake = []\n",
    "\n",
    "vreal_path = r\"\\for-2seconds\\validation\\real\"\n",
    "vfake_path = r\"\\for-2seconds\\validation\\fake\"\n",
    "vreal = []\n",
    "vfake = []\n",
    "\n",
    "treal_path = r\"\\for-2seconds\\testing\\real\"\n",
    "tfake_path = r\"\\for-2seconds\\testing\\fake\"\n",
    "treal = []\n",
    "tfake = []\n"
   ]
  },
  {
   "cell_type": "code",
   "execution_count": null,
   "id": "5adece00-8067-45d4-a863-14b1a63769c7",
   "metadata": {},
   "outputs": [],
   "source": [
    "def get_spectrogram(folder_path):\n",
    "    specs = []    \n",
    "    for filename in os.listdir(folder_path):\n",
    "        audio, sr = librosa.load(os.path.join(folder_path, filename), sr=None)\n",
    "        audio_parts = np.array_split(audio, 4)\n",
    "        for part in audio_parts:\n",
    "            spectrogram = abs(librosa.stft(y=part))\n",
    "            spectrogram = librosa.amplitude_to_db(spectrogram, ref=np.max)\n",
    "            specs.append(spectrogram)\n",
    "    return specs"
   ]
  },
  {
   "cell_type": "code",
   "execution_count": null,
   "id": "674d807e-c04e-48e2-9e3e-7d2bd0bcacf7",
   "metadata": {},
   "outputs": [],
   "source": [
    "realS = get_spectrogram(real_path)\n",
    "fakeS = get_spectrogram(fake_path)\n",
    "\n",
    "vrealS = get_spectrogram(vreal_path)\n",
    "vfakeS = get_spectrogram(vfake_path)\n",
    "\n",
    "trealS = get_spectrogram(treal_path)\n",
    "tfakeS = get_spectrogram(tfake_path)"
   ]
  },
  {
   "cell_type": "code",
   "execution_count": null,
   "id": "b487d716-b2a8-4bbd-9661-fc70a0cc8e59",
   "metadata": {},
   "outputs": [],
   "source": [
    "import numpy as np\n",
    "\n",
    "def split_of_4(array, ratio=0.25):\n",
    "    N = len(array)\n",
    "    split_size = int(ratio * N) \n",
    "    split_size = split_size - (split_size % 4)  \n",
    "\n",
    "    part1 = array[split_size:]  \n",
    "    part2 = array[:split_size]  \n",
    "\n",
    "    return part1, part2\n",
    "\n",
    "X_trainR, X_ensembleR = split_of_4(realS)\n",
    "X_trainF, X_ensembleF = split_of_4(fakeS)\n",
    "\n",
    "\n",
    "print(\"Розмір першої частини:\", len(X_trainR))  \n",
    "print(\"Розмір другої частини:\", len(X_ensembleR))  \n"
   ]
  },
  {
   "cell_type": "code",
   "execution_count": null,
   "id": "217805fc-773d-40fc-bbf5-cbd5fc86f02d",
   "metadata": {},
   "outputs": [],
   "source": [
    "from sklearn.model_selection import train_test_split\n",
    "\n",
    "real_labels = np.zeros(len(X_trainR))\n",
    "fake_labels = np.ones(len(X_trainF))\n",
    "\n",
    "vreal_labels = np.zeros(len(vrealS))\n",
    "vfake_labels = np.ones(len(vfakeS))\n",
    "\n",
    "X_train = np.concatenate((X_trainR, X_trainF), axis=0)\n",
    "y_train = np.concatenate((real_labels, fake_labels), axis=0)\n",
    "\n",
    "X_val = np.concatenate((vrealS, vfakeS), axis=0)\n",
    "y_val = np.concatenate((vreal_labels, vfake_labels), axis=0)\n",
    "\n",
    "shuffle_index_train = np.random.permutation(len(X_train))\n",
    "X_train_shuffled = X_train[shuffle_index_train]\n",
    "y_train_shuffled = y_train[shuffle_index_train]\n",
    "\n",
    "shuffle_index_val = np.random.permutation(len(X_val))\n",
    "X_val_shuffled = X_val[shuffle_index_val]\n",
    "y_val_shuffled = y_val[shuffle_index_val]\n",
    "\n",
    "X_train = X_train_shuffled[..., np.newaxis]\n",
    "X_test = X_val_shuffled[..., np.newaxis]"
   ]
  },
  {
   "cell_type": "code",
   "execution_count": null,
   "id": "31042f7d-8db1-4be4-8ee0-0e9c46bb20dc",
   "metadata": {
    "scrolled": true
   },
   "outputs": [],
   "source": [
    "from tensorflow.keras.models import Sequential\n",
    "from tensorflow.keras.layers import Input, Conv2D, MaxPooling2D, Flatten, Dense, Dropout\n",
    "\n",
    "model = Sequential([\n",
    "    Conv2D(16, (3, 3), activation='relu', input_shape=(X_train.shape[1:])),\n",
    "    MaxPooling2D((2, 2)),\n",
    "    Conv2D(32, (3, 3), activation='relu'),\n",
    "    MaxPooling2D((2, 2)),\n",
    "    Flatten(),\n",
    "    Dense(128, activation='relu'),\n",
    "    Dropout(0.5),\n",
    "    Dense(1, activation='sigmoid')\n",
    "])\n",
    "\n",
    "model.compile(optimizer='adam', loss='binary_crossentropy', metrics=['accuracy'])\n",
    "\n",
    "history = model.fit(X_train, y_train_shuffled, epochs=10, batch_size=32, validation_data=(X_test, y_val_shuffled))\n"
   ]
  },
  {
   "cell_type": "code",
   "execution_count": null,
   "id": "770e7beb-7f69-4d17-97b9-5111c6eeb346",
   "metadata": {},
   "outputs": [],
   "source": [
    "X_ensembleRSpred = model.predict(np.array(X_ensembleR))\n",
    "X_ensembleFSpred = model.predict(np.array(X_ensembleF))\n",
    "\n",
    "vrealSpred = model.predict(np.array(vrealS))\n",
    "vfakeSpred = model.predict(np.array(vfakeS))\n",
    "\n",
    "trealSpred = model.predict(np.array(trealS))\n",
    "tfakeSpred = model.predict(np.array(tfakeS))"
   ]
  },
  {
   "cell_type": "code",
   "execution_count": null,
   "id": "7bd207f9-f8db-483b-85ca-616c42ce83f3",
   "metadata": {},
   "outputs": [],
   "source": [
    "import pandas as pd\n",
    "pd.DataFrame(X_ensembleRSpred).to_csv('X_ensembleRSpred.csv', index=False)\n",
    "pd.DataFrame(X_ensembleFSpred).to_csv('X_ensembleFSpred.csv', index=False)\n",
    "pd.DataFrame(vrealSpred).to_csv('vrealSpred.csv', index=False)\n",
    "pd.DataFrame(vfakeSpred).to_csv('vfakeSpred.csv', index=False)\n",
    "pd.DataFrame(trealSpred).to_csv('trealSpred.csv', index=False)\n",
    "pd.DataFrame(tfakeSpred).to_csv('tfakeSpred.csv', index=False)"
   ]
  }
 ],
 "metadata": {
  "kernelspec": {
   "display_name": "Python 3 (ipykernel)",
   "language": "python",
   "name": "python3"
  },
  "language_info": {
   "codemirror_mode": {
    "name": "ipython",
    "version": 3
   },
   "file_extension": ".py",
   "mimetype": "text/x-python",
   "name": "python",
   "nbconvert_exporter": "python",
   "pygments_lexer": "ipython3",
   "version": "3.11.8"
  }
 },
 "nbformat": 4,
 "nbformat_minor": 5
}
