{
 "cells": [
  {
   "cell_type": "code",
   "execution_count": null,
   "id": "ebe50ca4-1c3c-4514-98bf-4f8f20cd4a39",
   "metadata": {},
   "outputs": [],
   "source": [
    "import os\n",
    "import librosa\n",
    "import librosa.display\n",
    "import matplotlib.pyplot as plt\n",
    "import numpy as np\n",
    "import pandas as pd\n",
    "from sklearn.svm import SVC\n",
    "from sklearn.ensemble import RandomForestClassifier\n",
    "from tensorflow.keras.models import Sequential\n",
    "from tensorflow.keras.layers import Input, Dense, BatchNormalization, Dropout\n",
    "from tensorflow.keras.regularizers import l2\n",
    "from tensorflow.keras.callbacks import ReduceLROnPlateau\n",
    "from tensorflow.keras.optimizers import Adam\n",
    "from sklearn.model_selection import train_test_split\n",
    "from sklearn.metrics import confusion_matrix, ConfusionMatrixDisplay\n",
    "from sklearn.model_selection import GridSearchCV\n",
    "from sklearn.preprocessing import StandardScaler\n",
    "\n",
    "def reshape_to_4(array):\n",
    "    return array.reshape(-1, 4)\n",
    "\n",
    "train_predR = reshape_to_4(pd.read_csv('X_ensembleRSpred.csv').values)\n",
    "train_predF = reshape_to_4(pd.read_csv('X_ensembleFSpred.csv').values)\n",
    "train_LSTMpredR = reshape_to_4(pd.read_csv('X_ensembleRMpred.csv').values)\n",
    "train_LSTMpredF = reshape_to_4(pd.read_csv('X_ensembleFMpred.csv').values)\n",
    "\n",
    "val_predR = reshape_to_4(pd.read_csv('vrealMpred.csv').values)\n",
    "val_predF = reshape_to_4(pd.read_csv('vfakeSpred.csv').values)\n",
    "val_LSTMpredR = reshape_to_4(pd.read_csv('vrealMpred.csv').values)\n",
    "val_LSTMpredF = reshape_to_4(pd.read_csv('vfakeMpred.csv').values)\n",
    "\n",
    "test_predR = reshape_to_4(pd.read_csv('trealSpred.csv').values)\n",
    "test_predF = reshape_to_4(pd.read_csv('tfakeSpred.csv').values)\n",
    "test_LSTMpredR = reshape_to_4(pd.read_csv('trealMpred.csv').values)\n",
    "test_LSTMpredF = reshape_to_4(pd.read_csv('tfakeMpred.csv').values)\n"
   ]
  },
  {
   "cell_type": "code",
   "execution_count": null,
   "id": "783fa7bd-4fae-46f7-97f8-bb8530971f23",
   "metadata": {},
   "outputs": [],
   "source": [
    "def get_spectrogram_stats(folder_path):\n",
    "    stats = []\n",
    "    zcr = []\n",
    "    for filename in os.listdir(folder_path):\n",
    "        audio, sr = librosa.load(os.path.join(folder_path, filename), sr=None)\n",
    "        S = np.abs(librosa.stft(audio))\n",
    "        S_db = librosa.amplitude_to_db(S, ref=np.max)\n",
    "\n",
    "        mean_amp = np.mean(S_db)\n",
    "        std_amp = np.std(S_db)\n",
    "        max_amp = np.max(S_db)\n",
    "        min_amp = np.min(S_db)\n",
    "\n",
    "        rms = np.mean(librosa.feature.rms(y=audio))\n",
    "\n",
    "        zc = np.sum(librosa.zero_crossings(audio)) / len(audio)\n",
    "\n",
    "        #stats.append([mean_amp, std_amp, max_amp, min_amp, rms])\n",
    "        stats.append([std_amp, max_amp, rms])\n",
    "        zcr.append([zc])\n",
    "    return np.array(stats), np.array(zcr)  "
   ]
  },
  {
   "cell_type": "code",
   "execution_count": null,
   "id": "95deae79-2363-4b65-b420-7f864d3540ee",
   "metadata": {},
   "outputs": [],
   "source": [
    "real_path = r\"\\for-2seconds\\training\\real\"\n",
    "fake_path = r\"\\for-2seconds\\training\\fake\"\n",
    "real = []\n",
    "fake = []\n",
    "\n",
    "vreal_path = r\"\\for-2seconds\\validation\\real\"\n",
    "vfake_path = r\"\\for-2seconds\\validation\\fake\"\n",
    "vreal = []\n",
    "vfake = []\n",
    "\n",
    "treal_path = r\"\\for-2seconds\\testing\\real\"\n",
    "tfake_path = r\"\\for-2seconds\\testing\\fake\"\n",
    "treal = []\n",
    "tfake = []\n",
    "\n",
    "\n",
    "real_stats, real_zcr = get_spectrogram_stats(real_path)\n",
    "real_zcr = real_zcr[-1744:]\n",
    "real_stats = real_stats[-1744:]\n",
    "fake_stats, fake_zcr = get_spectrogram_stats(fake_path)\n",
    "fake_zcr = fake_zcr[-1744:]\n",
    "fake_stats = fake_stats[-1744:]\n",
    "vreal_stats, vreal_zcr = get_spectrogram_stats(vreal_path)\n",
    "vfake_stats, vfake_zcr = get_spectrogram_stats(vfake_path)\n",
    "treal_stats, treal_zcr = get_spectrogram_stats(treal_path)\n",
    "tfake_stats, tfake_zcr = get_spectrogram_stats(tfake_path)"
   ]
  },
  {
   "cell_type": "code",
   "execution_count": null,
   "id": "05cd4a83-aa80-48df-9dba-f777d37551a3",
   "metadata": {},
   "outputs": [],
   "source": [
    "real_stats.shape"
   ]
  },
  {
   "cell_type": "code",
   "execution_count": null,
   "id": "ecbe31d3-d984-420f-933d-5a6ecaef64ca",
   "metadata": {},
   "outputs": [],
   "source": [
    "vreal_stats.shape"
   ]
  },
  {
   "cell_type": "code",
   "execution_count": null,
   "id": "85dd8f95-294a-48db-88f8-f1cb86d1a37b",
   "metadata": {},
   "outputs": [],
   "source": [
    "all_stats = np.vstack([real_stats, fake_stats, vreal_stats, vfake_stats, treal_stats, tfake_stats])\n",
    "scaler = StandardScaler().fit(all_stats)\n",
    "\n",
    "real_stats = scaler.transform(real_stats)\n",
    "fake_stats = scaler.transform(fake_stats)\n",
    "vreal_stats = scaler.transform(vreal_stats)\n",
    "vfake_stats = scaler.transform(vfake_stats)\n",
    "treal_stats = scaler.transform(treal_stats)\n",
    "tfake_stats = scaler.transform(tfake_stats)"
   ]
  },
  {
   "cell_type": "code",
   "execution_count": null,
   "id": "a8251860-2015-42b1-940e-029b360d7c35",
   "metadata": {},
   "outputs": [],
   "source": [
    "real_stats[1]"
   ]
  },
  {
   "cell_type": "code",
   "execution_count": null,
   "id": "6880ddd0-3fda-4230-b1ee-2d700aebf834",
   "metadata": {},
   "outputs": [],
   "source": [
    "X_train = np.vstack((np.hstack((train_predR, train_LSTMpredR, real_stats)),  \n",
    "                          np.hstack((train_predF, train_LSTMpredF, fake_stats))))  \n",
    "\n",
    "X_val = np.vstack((np.hstack((val_predR, val_LSTMpredR, vreal_stats)),  \n",
    "                         np.hstack((val_predF, val_LSTMpredF, vfake_stats))))  \n",
    "\n",
    "X_test = np.vstack((np.hstack((test_predR, test_LSTMpredR, treal_stats)),  \n",
    "                         np.hstack((test_predF, test_LSTMpredF, tfake_stats))))  \n",
    "\n",
    "zcr_train = np.vstack((real_zcr, fake_zcr))\n",
    "\n",
    "zcr_val = np.vstack((vreal_zcr, vfake_zcr))\n",
    "\n",
    "zcr_test = np.vstack((treal_zcr, tfake_zcr))\n",
    "\n",
    "y_train = np.vstack((np.ones((train_predR.shape[0], 1)),  \n",
    "                          np.zeros((train_predF.shape[0], 1))))  \n",
    "\n",
    "y_val = np.vstack((np.ones((val_predR.shape[0], 1)),  \n",
    "                          np.zeros((val_predF.shape[0], 1))))  \n",
    "\n",
    "y_test = np.vstack((np.ones((test_predR.shape[0], 1)),  \n",
    "                         np.zeros((test_predF.shape[0], 1))))  "
   ]
  },
  {
   "cell_type": "code",
   "execution_count": null,
   "id": "4a938735-302e-4ddc-8b8d-25577bf62288",
   "metadata": {},
   "outputs": [],
   "source": [
    "X_train = np.hstack((X_train, zcr_train))\n",
    "X_val = np.hstack((X_val, zcr_val))\n",
    "X_test = np.hstack((X_test, zcr_test))"
   ]
  },
  {
   "cell_type": "code",
   "execution_count": null,
   "id": "654c0704-bfa1-4720-8b6c-5d91aba2cb6e",
   "metadata": {},
   "outputs": [],
   "source": [
    "indices = np.arange(X_train.shape[0])\n",
    "np.random.shuffle(indices)\n",
    "\n",
    "X_train = X_train[indices]\n",
    "y_train = y_train[indices]"
   ]
  },
  {
   "cell_type": "code",
   "execution_count": null,
   "id": "9389abe5-f6ab-4ecf-97c9-fb71f06e6131",
   "metadata": {
    "scrolled": true
   },
   "outputs": [],
   "source": [
    "mlp_model = Sequential([\n",
    "    Input(shape=(X_train.shape[1],)),\n",
    "    Dense(16, activation='relu', kernel_regularizer=l2(0.001)),\n",
    "    BatchNormalization(),\n",
    "    \n",
    "    Dense(32, activation='relu', kernel_regularizer=l2(0.001)),\n",
    "    BatchNormalization(),\n",
    "\n",
    "    Dense(32, activation='relu'),\n",
    "    BatchNormalization(),\n",
    "    \n",
    "    Dense(1, activation='sigmoid')\n",
    "])\n",
    "optimizer = Adam(learning_rate=0.0005)\n",
    "\n",
    "mlp_model.compile(loss='binary_crossentropy', optimizer=optimizer, metrics=['accuracy'])\n",
    "\n",
    "\n",
    "mlp_model.fit(X_train, y_train, \n",
    "              epochs=20, batch_size=512, \n",
    "              verbose=2, validation_split=0.2)\n",
    "\n",
    "\n",
    "mlp_accuracy1 = mlp_model.evaluate(X_val, y_val, verbose=0)[1]\n",
    "mlp_accuracy2 = mlp_model.evaluate(X_test, y_test, verbose=0)[1]\n",
    "\n",
    "print(f\"Точність MLP на наборі з відомими синтезаторами: {mlp_accuracy1 * 100:.2f}%\")\n",
    "print(f\"Точність MLP на наборі з невідомим синтезатором: {mlp_accuracy2 * 100:.2f}%\")"
   ]
  },
  {
   "cell_type": "code",
   "execution_count": null,
   "id": "3630ada6-2656-4728-b23f-5f07309e72f5",
   "metadata": {},
   "outputs": [],
   "source": [
    "#mlp_model.save(\"mlp_model.keras\")"
   ]
  },
  {
   "cell_type": "code",
   "execution_count": null,
   "id": "460958fe-04b8-4dc2-ab21-344ba912cb39",
   "metadata": {},
   "outputs": [],
   "source": [
    "# from tensorflow.keras.models import load_model\n",
    "# model = load_model('mlp_model.keras')"
   ]
  },
  {
   "cell_type": "code",
   "execution_count": null,
   "id": "c8623c0c-6463-4e6d-8d51-9fb498688756",
   "metadata": {},
   "outputs": [],
   "source": [
    "#\n",
    "# mlp_accuracy1 = model.evaluate(X_val, y_val, verbose=0)[1]\n",
    "# mlp_accuracy2 = model.evaluate(X_test, y_test, verbose=0)[1]\n",
    "# print(f\"Точність MLP на схожих тестових: {mlp_accuracy1 * 100:.2f}%\")\n",
    "# print(f\"Точність MLP на нових тестових: {mlp_accuracy2 * 100:.2f}%\")"
   ]
  },
  {
   "cell_type": "code",
   "execution_count": null,
   "id": "1443426b-f403-4a78-ab09-366767179904",
   "metadata": {},
   "outputs": [],
   "source": [
    "# y_pred_prob = model.predict(X_test)\n",
    "\n",
    "# y_pred = (y_pred_prob > 0.5).astype(int)\n",
    "\n",
    "# cm = confusion_matrix(y_test, y_pred)\n",
    "# disp = ConfusionMatrixDisplay(confusion_matrix=cm)\n",
    "# disp.plot(cmap=plt.cm.Blues)\n",
    "# plt.show()"
   ]
  },
  {
   "cell_type": "code",
   "execution_count": null,
   "id": "0f95f222-9108-41be-94e4-ccfdfb149ffa",
   "metadata": {},
   "outputs": [],
   "source": [
    "svm_model = SVC(probability=True)\n",
    "svm_model.fit(X_train, y_train.ravel())\n",
    "\n",
    "svm_acc1 = svm_model.score(X_val, y_val)\n",
    "svm_acc2 = svm_model.score(X_test, y_test)\n",
    "print(f\"Точність SVM на схожих тестових: {svm_acc1 * 100:.2f}%\")\n",
    "print(f\"Точність SVM на нових тестових: {svm_acc2 * 100:.2f}%\")"
   ]
  },
  {
   "cell_type": "code",
   "execution_count": null,
   "id": "48e8a140-7ca2-415c-a23b-fd8174124999",
   "metadata": {},
   "outputs": [],
   "source": [
    "# y_pred_prob = svm_model.predict(X_test)\n",
    "\n",
    "# y_pred = (y_pred_prob > 0.5).astype(int)\n",
    "\n",
    "# cm = confusion_matrix(y_test, y_pred)\n",
    "# disp = ConfusionMatrixDisplay(confusion_matrix=cm, display_labels=[\"fake\", \"real\"])\n",
    "# disp.plot(cmap=plt.cm.Blues)\n",
    "# plt.show()"
   ]
  },
  {
   "cell_type": "code",
   "execution_count": null,
   "id": "30e3bf61-0d22-4e56-87cb-6f71268af394",
   "metadata": {},
   "outputs": [],
   "source": [
    "rf_model = RandomForestClassifier(n_estimators=10, max_depth=8, random_state=42)\n",
    "rf_model.fit(X_train, y_train.ravel())\n",
    "\n",
    "rf_acc1 = rf_model.score(X_val, y_val)\n",
    "rf_acc2 = rf_model.score(X_test, y_test)\n",
    "print(f\"Точність Random Forest на схожих тестових: {rf_acc1 * 100:.2f}%\")\n",
    "print(f\"Точність Random Forest на нових тестових: {rf_acc2 * 100:.2f}%\")"
   ]
  },
  {
   "cell_type": "code",
   "execution_count": null,
   "id": "b4a2c383-0aba-4e07-8a79-6f40bca10832",
   "metadata": {},
   "outputs": [],
   "source": [
    "param_grid = {\n",
    "    'n_estimators': [50, 100, 200],\n",
    "    'max_depth': [5, 10, 15, None],\n",
    "    'min_samples_split': [2, 5, 10],\n",
    "    'max_features': ['sqrt', 'log2', None]\n",
    "}\n",
    "\n",
    "rf = RandomForestClassifier(random_state=42)\n",
    "\n",
    "grid_search = GridSearchCV(estimator=rf, param_grid=param_grid, \n",
    "                           cv=5, scoring='accuracy', n_jobs=-1, verbose=1)\n",
    "\n",
    "grid_search.fit(X_train, y_train.ravel())\n",
    "\n",
    "best_rf_model = grid_search.best_estimator_\n",
    "\n",
    "rf_acc1 = best_rf_model.score(X_val, y_val)\n",
    "rf_acc2 = best_rf_model.score(X_test, y_test)\n",
    "\n",
    "print(\"Найкращі параметри:\", grid_search.best_params_)\n",
    "print(f\"Точність Random Forest на схожих тестових: {rf_acc1 * 100:.2f}%\")\n",
    "print(f\"Точність Random Forest на нових тестових: {rf_acc2 * 100:.2f}%\")\n"
   ]
  },
  {
   "cell_type": "code",
   "execution_count": null,
   "id": "28755235-57cf-41dd-8964-c1ab92ceb335",
   "metadata": {},
   "outputs": [],
   "source": [
    "# y_pred_prob = best_rf_model.predict(X_test)\n",
    "\n",
    "# y_pred = (y_pred_prob > 0.5).astype(int)\n",
    "\n",
    "# cm = confusion_matrix(y_test, y_pred)\n",
    "# disp = ConfusionMatrixDisplay(confusion_matrix=cm, display_labels=[\"fake\", \"real\"])\n",
    "# disp.plot(cmap=plt.cm.Blues)\n",
    "# plt.show()"
   ]
  }
 ],
 "metadata": {
  "kernelspec": {
   "display_name": "Python 3 (ipykernel)",
   "language": "python",
   "name": "python3"
  },
  "language_info": {
   "codemirror_mode": {
    "name": "ipython",
    "version": 3
   },
   "file_extension": ".py",
   "mimetype": "text/x-python",
   "name": "python",
   "nbconvert_exporter": "python",
   "pygments_lexer": "ipython3",
   "version": "3.11.8"
  }
 },
 "nbformat": 4,
 "nbformat_minor": 5
}
