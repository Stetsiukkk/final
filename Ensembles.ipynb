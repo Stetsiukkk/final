{
 "cells": [
  {
   "cell_type": "code",
   "execution_count": null,
   "id": "3e9a5b8e-f467-4048-b4a7-d45dcc3d53ce",
   "metadata": {},
   "outputs": [],
   "source": [
    "import numpy as np\n",
    "import pandas as pd\n",
    "from sklearn.svm import SVC\n",
    "from sklearn.ensemble import RandomForestClassifier\n",
    "from tensorflow.keras.models import Sequential\n",
    "from tensorflow.keras.layers import Input, Dense, BatchNormalization, Dropout\n",
    "from tensorflow.keras.regularizers import l2\n",
    "from tensorflow.keras.callbacks import ReduceLROnPlateau\n",
    "from tensorflow.keras.optimizers import Adam\n",
    "\n",
    "def reshape_4(array):\n",
    "    return array.reshape(-1, 4)\n",
    "\n",
    "train_predR = reshape_4(pd.read_csv('VpredR.csv').values)\n",
    "train_predF = reshape_4(pd.read_csv('VpredF.csv').values)\n",
    "train_LSTMpredR = reshape_4(pd.read_csv('LSTM_VpredR.csv').values)\n",
    "train_LSTMpredF = reshape_4(pd.read_csv('LSTM_VpredF.csv').values)\n",
    "\n",
    "test_predR = reshape_4(pd.read_csv('predR.csv').values)\n",
    "test_predF = reshape_4(pd.read_csv('predF.csv').values)\n",
    "test_LSTMpredR = reshape_4(pd.read_csv('LSTM_predR.csv').values)\n",
    "test_LSTMpredF = reshape_4(pd.read_csv('LSTM_predF.csv').values)\n"
   ]
  },
  {
   "cell_type": "code",
   "execution_count": null,
   "id": "9246621f-9f1f-4f7c-8ac8-003bd9239e26",
   "metadata": {},
   "outputs": [],
   "source": [
    "X_train = np.vstack((np.hstack((train_predR, train_LSTMpredR)),  \n",
    "                          np.hstack((train_predF, train_LSTMpredF))))  \n",
    "\n",
    "X_test = np.vstack((np.hstack((test_predR, test_LSTMpredR)),  \n",
    "                         np.hstack((test_predF, test_LSTMpredF))))  \n",
    "\n",
    "y_train = np.vstack((np.ones((train_predR.shape[0], 1)),  \n",
    "                          np.zeros((train_predF.shape[0], 1))))  \n",
    "\n",
    "y_test = np.vstack((np.ones((test_predR.shape[0], 1)),  \n",
    "                         np.zeros((test_predF.shape[0], 1))))  "
   ]
  },
  {
   "cell_type": "code",
   "execution_count": null,
   "id": "22144527-113f-4ae0-be34-ee90c61c1bfc",
   "metadata": {},
   "outputs": [],
   "source": [
    "svm_model = SVC(probability=True)\n",
    "svm_model.fit(X_train, y_train.ravel())\n",
    "svm_acc = svm_model.score(X_test, y_test)\n",
    "\n",
    "print(f\"Точність SVM: {svm_acc * 100:.2f}%\")"
   ]
  },
  {
   "cell_type": "code",
   "execution_count": null,
   "id": "2507cb78-aa5d-4271-a00c-3438f125b3b1",
   "metadata": {},
   "outputs": [],
   "source": [
    "rf_model = RandomForestClassifier(n_estimators=10, max_depth=8, random_state=42)\n",
    "rf_model.fit(X_train, y_train.ravel())\n",
    "rf_acc = rf_model.score(X_test, y_test)\n",
    "\n",
    "print(f\"Точність Random Forest: {rf_acc * 100:.2f}%\")"
   ]
  },
  {
   "cell_type": "code",
   "execution_count": null,
   "id": "00edb34b-7683-4be4-803a-8b35cb26c19a",
   "metadata": {},
   "outputs": [],
   "source": [
    "mlp_model = Sequential([\n",
    "    Input(shape=(X_train.shape[1],)),\n",
    "    Dense(32, activation='relu', kernel_regularizer=l2(0.001)),\n",
    "    BatchNormalization(),\n",
    "    \n",
    "    Dense(64, activation='relu', kernel_regularizer=l2(0.001)),\n",
    "    BatchNormalization(),\n",
    "\n",
    "    Dense(64, activation='relu'),\n",
    "    BatchNormalization(),\n",
    "    \n",
    "    Dense(1, activation='sigmoid')\n",
    "])\n",
    "optimizer = Adam(learning_rate=0.0005)\n",
    "mlp_model.compile(loss='binary_crossentropy', optimizer=optimizer, metrics=['accuracy'])\n",
    "\n",
    "mlp_model.fit(X_train, y_train, \n",
    "              epochs=10, batch_size=512, \n",
    "              #validation_data=(X_test, y_test),\n",
    "              verbose=1)\n",
    "\n",
    "\n",
    "mlp_accuracy = mlp_model.evaluate(X_test, y_test, verbose=0)[1]\n",
    "\n",
    "print(f\"Точність Покращеної MLP: {mlp_accuracy * 100:.2f}%\")"
   ]
  },
  {
   "cell_type": "code",
   "execution_count": null,
   "id": "2918b42d-7577-4a55-be8f-5ea7f2f0958c",
   "metadata": {},
   "outputs": [],
   "source": []
  }
 ],
 "metadata": {
  "kernelspec": {
   "display_name": "Python 3 (ipykernel)",
   "language": "python",
   "name": "python3"
  },
  "language_info": {
   "codemirror_mode": {
    "name": "ipython",
    "version": 3
   },
   "file_extension": ".py",
   "mimetype": "text/x-python",
   "name": "python",
   "nbconvert_exporter": "python",
   "pygments_lexer": "ipython3",
   "version": "3.11.8"
  }
 },
 "nbformat": 4,
 "nbformat_minor": 5
}
