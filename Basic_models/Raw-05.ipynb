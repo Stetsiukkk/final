{
 "cells": [
  {
   "cell_type": "code",
   "execution_count": null,
   "id": "4b46fff3-5516-43d8-84da-2532cdc77225",
   "metadata": {},
   "outputs": [],
   "source": [
    "import os\n",
    "import librosa\n",
    "import librosa.display\n",
    "import matplotlib.pyplot as plt\n",
    "import numpy as np\n",
    "\n",
    "# шлях до тренувальних справжніх даних\n",
    "real_path = \"\"\n",
    "# шлях до тренувальних синтезованих даних\n",
    "fake_path = \"\"\n",
    "real = []\n",
    "fake = []\n",
    "\n",
    "vreal_path = \"\"\n",
    "vfake_path = \"\"\n",
    "vreal = []\n",
    "vfake = []\n",
    "\n",
    "def get_audio(folder_path):\n",
    "    raw = []\n",
    "    for filename in os.listdir(folder_path):\n",
    "        audio, sr = librosa.load(os.path.join(folder_path, filename), sr=None)\n",
    "        audio_parts = np.array_split(audio, 4)\n",
    "        for part in audio_parts:\n",
    "            raw.append(part)\n",
    "    return raw\n",
    "\n",
    "real = get_audio(real_path)\n",
    "fake = get_audio(fake_path)\n",
    "\n",
    "vreal = get_audio(vreal_path)\n",
    "vfake = get_audio(vfake_path)"
   ]
  },
  {
   "cell_type": "code",
   "execution_count": null,
   "id": "70daa458-ee5b-4a38-808a-607bfeaa97b2",
   "metadata": {},
   "outputs": [],
   "source": [
    "print(\"Кількість тренувальних аудіофайлів real:\", len(real))\n",
    "print(\"Кількість тренувальних аудіофайлів fake:\", len(fake))\n",
    "\n",
    "print(\"Кількість валідаційних аудіофайлів real:\", len(vreal))\n",
    "print(\"Кількість валідаційних аудіофайлів fake:\", len(vfake))"
   ]
  },
  {
   "cell_type": "code",
   "execution_count": null,
   "id": "142fecd7-7269-44a1-8cac-792ad1f21afc",
   "metadata": {},
   "outputs": [],
   "source": [
    "from sklearn.model_selection import train_test_split\n",
    "import numpy as np\n",
    "\n",
    "real_labels = np.zeros(len(real))\n",
    "fake_labels = np.ones(len(fake))\n",
    "\n",
    "vreal_labels = np.zeros(len(vreal))\n",
    "vfake_labels = np.ones(len(vfake))\n",
    "\n",
    "X_train = np.concatenate((real, fake), axis=0)\n",
    "y_train = np.concatenate((real_labels, fake_labels), axis=0)\n",
    "\n",
    "X_val = np.concatenate((vreal, vfake), axis=0)\n",
    "y_val = np.concatenate((vreal_labels, vfake_labels), axis=0)\n",
    "\n",
    "shuffle_index_train = np.random.permutation(len(X_train))\n",
    "X_train_shuffled = X_train[shuffle_index_train]\n",
    "y_train_shuffled = y_train[shuffle_index_train]\n",
    "\n",
    "shuffle_index_val = np.random.permutation(len(X_val))\n",
    "X_val_shuffled = X_val[shuffle_index_val]\n",
    "y_val_shuffled = y_val[shuffle_index_val]\n",
    "\n",
    "print(\"Розмірність тренувальних даних:\", X_train_shuffled.shape)\n",
    "print(\"Розмірність тестових даних:\", X_val_shuffled.shape)\n",
    "print(\"Розмірність міток тренувальних даних:\", y_train_shuffled.shape)\n",
    "print(\"Розмірність міток тестових даних:\", y_val_shuffled.shape)"
   ]
  },
  {
   "cell_type": "code",
   "execution_count": null,
   "id": "81b7c4bc-1bec-4e92-810a-450ba6100ede",
   "metadata": {},
   "outputs": [],
   "source": [
    "from tensorflow.keras.models import Sequential\n",
    "from tensorflow.keras.layers import Dense\n",
    "\n",
    "model = Sequential([\n",
    "    Dense(64, activation='relu', input_shape=(X_train_shuffled.shape[1],)),\n",
    "    Dense(32, activation='relu'), \n",
    "    Dense(1, activation='sigmoid')\n",
    "])\n",
    "\n",
    "model.compile(optimizer='adam', loss='binary_crossentropy', metrics=['accuracy'])\n",
    "\n",
    "history = model.fit(X_train_shuffled, y_train_shuffled, epochs=10, batch_size=32, validation_data=(X_val_shuffled, y_val_shuffled))"
   ]
  },
  {
   "cell_type": "code",
   "execution_count": null,
   "id": "c71e5f07-1d69-4876-9d71-c352e87debc1",
   "metadata": {},
   "outputs": [],
   "source": [
    "model.save(\"RawOverF-05.keras\")"
   ]
  },
  {
   "cell_type": "code",
   "execution_count": null,
   "id": "e192d7f6-f530-498a-880b-f59a24c81fa2",
   "metadata": {},
   "outputs": [],
   "source": [
    "from tensorflow.keras.models import Sequential\n",
    "from tensorflow.keras.layers import Dense, Dropout\n",
    "from tensorflow.keras import regularizers\n",
    "\n",
    "model = Sequential([\n",
    "    Dense(64, activation='relu', kernel_regularizer=regularizers.l2(0.001), input_shape=(X_train_shuffled.shape[1],)), \n",
    "    Dropout(0.5),\n",
    "    Dense(32, activation='relu', kernel_regularizer=regularizers.l2(0.001)),\n",
    "    Dropout(0.5),\n",
    "    Dense(1, activation='sigmoid')\n",
    "])\n",
    "\n",
    "model.compile(optimizer='adam', loss='binary_crossentropy', metrics=['accuracy'])\n",
    "\n",
    "history = model.fit(X_train_shuffled, y_train_shuffled, epochs=40, batch_size=32, validation_data=(X_val_shuffled, y_val_shuffled))"
   ]
  },
  {
   "cell_type": "code",
   "execution_count": null,
   "id": "84578e98-903f-431f-b30e-b6b65e0b84cb",
   "metadata": {},
   "outputs": [],
   "source": [
    "model.save(\"Raw-05.keras\")"
   ]
  },
  {
   "cell_type": "code",
   "execution_count": null,
   "id": "cd194393-2694-40fe-b81b-cf041b0a14fc",
   "metadata": {},
   "outputs": [],
   "source": []
  }
 ],
 "metadata": {
  "kernelspec": {
   "display_name": "Python 3 (ipykernel)",
   "language": "python",
   "name": "python3"
  },
  "language_info": {
   "codemirror_mode": {
    "name": "ipython",
    "version": 3
   },
   "file_extension": ".py",
   "mimetype": "text/x-python",
   "name": "python",
   "nbconvert_exporter": "python",
   "pygments_lexer": "ipython3",
   "version": "3.11.8"
  }
 },
 "nbformat": 4,
 "nbformat_minor": 5
}
