{
 "cells": [
  {
   "cell_type": "code",
   "execution_count": null,
   "id": "93827632-3196-431a-8dc9-00312c15f33f",
   "metadata": {},
   "outputs": [],
   "source": [
    "import os\n",
    "import librosa\n",
    "import librosa.display\n",
    "import matplotlib.pyplot as plt\n",
    "\n",
    "# шлях до тренувальних справжніх даних\n",
    "real_path = \"\"\n",
    "# шлях до тренувальних синтезованих даних\n",
    "fake_path = \"\"\n",
    "real = []\n",
    "fake = []\n",
    "\n",
    "vreal_path = \"\"\n",
    "vfake_path = \"\"\n",
    "vreal = []\n",
    "vfake = []\n",
    "\n",
    "def get_spectrogram(folder_path):\n",
    "    specs = []\n",
    "    for filename in os.listdir(folder_path):\n",
    "        audio, sr = librosa.load(os.path.join(folder_path, filename), sr=None)\n",
    "        spectrogram = abs(librosa.stft(y=audio))\n",
    "        specs.append(spectrogram)\n",
    "    return specs\n",
    "\n",
    "real = get_spectrogram(real_path)\n",
    "fake = get_spectrogram(fake_path)\n",
    "\n",
    "vreal = get_spectrogram(vreal_path)\n",
    "vfake = get_spectrogram(vfake_path)\n"
   ]
  },
  {
   "cell_type": "code",
   "execution_count": null,
   "id": "3e8492c4-7dc5-463a-b1af-5e2077ecfba0",
   "metadata": {},
   "outputs": [],
   "source": [
    "import random\n",
    "fake_files = os.listdir(fake_path)\n",
    "fake_file = random.choice(fake_files)\n",
    "audio, sr = librosa.load(os.path.join(fake_path, fake_file), sr=None)"
   ]
  },
  {
   "cell_type": "code",
   "execution_count": null,
   "id": "9f8e830f-24d4-4973-88a2-033803d1a22f",
   "metadata": {},
   "outputs": [],
   "source": [
    "import librosa.display\n",
    "import matplotlib.pyplot as plt\n",
    "import numpy as np\n",
    "index_to_display = 1\n",
    "plt.figure(figsize=(10, 6))\n",
    "librosa.display.specshow(real[index_to_display], sr=sr, x_axis='time', y_axis='log')\n",
    "plt.colorbar(format='%+2.0f дБ')\n",
    "plt.title('Real Spectrogram {}'.format(index_to_display + 1))\n",
    "plt.tight_layout()\n",
    "plt.show()"
   ]
  },
  {
   "cell_type": "code",
   "execution_count": null,
   "id": "c779129e-1d98-4d9f-a7a8-615904299e51",
   "metadata": {},
   "outputs": [],
   "source": [
    "plt.figure(figsize=(10, 6))\n",
    "librosa.display.specshow(fake[index_to_display], sr=sr, x_axis='time', y_axis='log')\n",
    "plt.colorbar(format='%+2.0f дБ')\n",
    "plt.title('Fake Spectrogram {}'.format(index_to_display + 1))\n",
    "plt.tight_layout()\n",
    "plt.show()"
   ]
  },
  {
   "cell_type": "code",
   "execution_count": null,
   "id": "8f45925a-fc7a-4453-8a1d-8e3f13f1a7a4",
   "metadata": {},
   "outputs": [],
   "source": [
    "from sklearn.model_selection import train_test_split\n",
    "import numpy as np\n",
    "\n",
    "real_labels = np.zeros(len(real))\n",
    "fake_labels = np.ones(len(fake))\n",
    "\n",
    "vreal_labels = np.zeros(len(vreal))\n",
    "vfake_labels = np.ones(len(vfake))\n",
    "\n",
    "X_train = np.concatenate((real, fake), axis=0)\n",
    "y_train = np.concatenate((real_labels, fake_labels), axis=0)\n",
    "\n",
    "X_val = np.concatenate((vreal, vfake), axis=0)\n",
    "y_val = np.concatenate((vreal_labels, vfake_labels), axis=0)\n",
    "\n",
    "shuffle_index_train = np.random.permutation(len(X_train))\n",
    "X_train_shuffled = X_train[shuffle_index_train]\n",
    "y_train_shuffled = y_train[shuffle_index_train]\n",
    "\n",
    "shuffle_index_val = np.random.permutation(len(X_val))\n",
    "X_val_shuffled = X_val[shuffle_index_val]\n",
    "y_val_shuffled = y_val[shuffle_index_val]\n",
    "\n",
    "print(\"Розмірність тренувальних даних:\", X_train_shuffled.shape)\n",
    "print(\"Розмірність тестових даних:\", X_val_shuffled.shape)\n",
    "print(\"Розмірність міток тренувальних даних:\", y_train_shuffled.shape)\n",
    "print(\"Розмірність міток тестових даних:\", y_val_shuffled.shape)\n",
    "\n",
    "X_train = X_train_shuffled[..., np.newaxis]\n",
    "X_test = X_val_shuffled[..., np.newaxis]"
   ]
  },
  {
   "cell_type": "code",
   "execution_count": null,
   "id": "9cad5e38-523c-424b-9104-33bc49c5431a",
   "metadata": {},
   "outputs": [],
   "source": [
    "import tensorflow as tf\n",
    "from tensorflow.keras.models import Sequential\n",
    "from tensorflow.keras.layers import Conv2D, MaxPooling2D, Flatten, Dense, Dropout\n",
    "\n",
    "model = Sequential([\n",
    "    Conv2D(32, (3, 3), activation='relu', input_shape=(X_train.shape[1:])),\n",
    "    MaxPooling2D((2, 2)),\n",
    "    Conv2D(64, (3, 3), activation='relu'),\n",
    "    MaxPooling2D((2, 2)),\n",
    "    Conv2D(128, (3, 3), activation='relu'),\n",
    "    MaxPooling2D((2, 2)),\n",
    "    Flatten(),\n",
    "    Dense(512, activation='relu'),\n",
    "    Dropout(0.5),\n",
    "    Dense(1, activation='sigmoid')\n",
    "])\n",
    "\n",
    "model.compile(optimizer='adam', loss='binary_crossentropy', metrics=['accuracy'])\n",
    "\n",
    "history = model.fit(X_train, y_train_shuffled, epochs=10, batch_size=32, validation_data=(X_test, y_val_shuffled))\n"
   ]
  },
  {
   "cell_type": "code",
   "execution_count": null,
   "id": "a1545f99-a221-45db-a3c5-375a541f6c7a",
   "metadata": {},
   "outputs": [],
   "source": [
    "model.save('CNN_Spec.keras')"
   ]
  },
  {
   "cell_type": "code",
   "execution_count": null,
   "id": "3dcfd5aa-4e1d-4435-b07d-7eab82406a5d",
   "metadata": {},
   "outputs": [],
   "source": [
    "from tensorflow.keras.models import Sequential\n",
    "from tensorflow.keras.layers import LSTM, Dense, Input\n",
    "\n",
    "model = Sequential([\n",
    "    Input(shape=(X_train.shape[1], X_train.shape[2])),\n",
    "    LSTM(64),\n",
    "    Dense(1, activation='sigmoid')\n",
    "])\n",
    "\n",
    "model.compile(optimizer='adam', loss='binary_crossentropy', metrics=['accuracy'])\n",
    "\n",
    "history = model.fit(X_train, y_train_shuffled, epochs=10, batch_size=32, validation_data=(X_test, y_val_shuffled))"
   ]
  },
  {
   "cell_type": "code",
   "execution_count": null,
   "id": "1faf8fb1-6442-46cf-8def-dc5861855432",
   "metadata": {},
   "outputs": [],
   "source": [
    "model.save('LSTM_Spec.keras')"
   ]
  }
 ],
 "metadata": {
  "kernelspec": {
   "display_name": "Python 3 (ipykernel)",
   "language": "python",
   "name": "python3"
  },
  "language_info": {
   "codemirror_mode": {
    "name": "ipython",
    "version": 3
   },
   "file_extension": ".py",
   "mimetype": "text/x-python",
   "name": "python",
   "nbconvert_exporter": "python",
   "pygments_lexer": "ipython3",
   "version": "3.11.8"
  }
 },
 "nbformat": 4,
 "nbformat_minor": 5
}
