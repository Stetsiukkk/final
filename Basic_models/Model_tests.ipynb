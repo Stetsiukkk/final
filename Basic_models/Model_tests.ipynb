{
 "cells": [
  {
   "cell_type": "code",
   "execution_count": null,
   "id": "6c545205-4d40-450c-9d36-40134c823d75",
   "metadata": {},
   "outputs": [],
   "source": [
    "from tensorflow.keras.models import Sequential\n",
    "from tensorflow.keras.layers import Conv2D, MaxPooling2D, Flatten, Dense, Dropout\n",
    "from tensorflow.keras.models import Sequential\n",
    "from tensorflow.keras.layers import LSTM, Dense, Input\n",
    "from tensorflow.keras.models import load_model\n",
    "import numpy as np\n",
    "import os\n",
    "import librosa\n",
    "import librosa.display\n",
    "import matplotlib.pyplot as plt\n",
    "from tensorflow.keras.models import load_model"
   ]
  },
  {
   "cell_type": "code",
   "execution_count": null,
   "id": "b0ae92fd-e1e8-489f-af14-46a60d1f31c9",
   "metadata": {},
   "outputs": [],
   "source": [
    "#Завантаження потрібної моделі у форматі назва.keras\n",
    "CNN_Spec = load_model(\"\")"
   ]
  },
  {
   "cell_type": "code",
   "execution_count": null,
   "id": "3564c36b-3ab5-4fa9-b87f-3e33eaf6259e",
   "metadata": {},
   "outputs": [],
   "source": [
    "# шлях до справжніх даних\n",
    "real_path = \"\"\n",
    "# шлях до синтезованих даних\n",
    "fake_path = \"\"\n",
    "real = []\n",
    "fake = []\n",
    "\n",
    "\n",
    "# Всі досліджені формати аудіо, вибирається відповідно до завантаженої моделі\n",
    "\n",
    "# Raw audio\n",
    "\n",
    "# def get_data(folder_path):\n",
    "#     raw = []\n",
    "#     for filename in os.listdir(folder_path):\n",
    "#         audio, sr = librosa.load(os.path.join(folder_path, filename), sr=None)\n",
    "#         raw.append(audio)\n",
    "#     return raw\n",
    "\n",
    "# Raw audio 0.5\n",
    "\n",
    "# def get_data(folder_path):\n",
    "#     raw = []\n",
    "#     for filename in os.listdir(folder_path):\n",
    "#         audio, sr = librosa.load(os.path.join(folder_path, filename), sr=None)\n",
    "#         audio_parts = np.array_split(audio, 4)\n",
    "#         for part in audio_parts:\n",
    "#             raw.append(part)\n",
    "#     return raw\n",
    "\n",
    "# Spectrogram\n",
    "\n",
    "# def get_data(folder_path):\n",
    "#     specs = []\n",
    "#     for filename in os.listdir(folder_path):\n",
    "#         audio, sr = librosa.load(os.path.join(folder_path, filename), sr=None)\n",
    "#         spectrogram = abs(librosa.stft(y=audio))\n",
    "#         # spectrogram = librosa.amplitude_to_db(abs(spectrogram), ref=np.max)\n",
    "#         specs.append(spectrogram)\n",
    "#     return specs\n",
    "\n",
    "# Spectrogram 0.5\n",
    "\n",
    "# def get_data(folder_path):\n",
    "#     specs = []    \n",
    "#     for filename in os.listdir(folder_path):\n",
    "#         audio, sr = librosa.load(os.path.join(folder_path, filename), sr=None)\n",
    "#         audio_parts = np.array_split(audio, 4)\n",
    "#         for part in audio_parts:\n",
    "#             spectrogram = abs(librosa.stft(y=part))\n",
    "#             spectrogram = librosa.amplitude_to_db(spectrogram, ref=np.max)\n",
    "#             specs.append(spectrogram)\n",
    "#     return specs\n",
    "\n",
    "# Mel-spectrogram\n",
    "\n",
    "# def get_data(folder_path):\n",
    "#     mel_specs = []\n",
    "#     for filename in os.listdir(folder_path):\n",
    "#         audio, sr = librosa.load(os.path.join(folder_path, filename), sr=None)\n",
    "#         mel_spec = librosa.feature.melspectrogram(y=audio, sr=sr)\n",
    "#         # mel_spec = librosa.power_to_db(mel_spec, ref=np.max)\n",
    "#         mel_specs.append(mel_spec)\n",
    "#     return mel_specs\n",
    "\n",
    "# Mel-spectrogram 0.5\n",
    "\n",
    "# def get_data(folder_path):\n",
    "#     mel_specs = []\n",
    "#     for filename in os.listdir(folder_path):\n",
    "#         audio, sr = librosa.load(os.path.join(folder_path, filename), sr=None)\n",
    "#         audio_parts = np.array_split(audio, 4)\n",
    "#         for part in audio_parts:\n",
    "#             mel_spec = librosa.feature.melspectrogram(y=part, sr=sr)\n",
    "#             mel_spec = librosa.power_to_db(mel_spec, ref=np.max)\n",
    "#             mel_specs.append(mel_spec)\n",
    "#     return mel_specs\n",
    "\n",
    "# MFFC\n",
    "\n",
    "# def get_data(folder_path):\n",
    "#     mfccs = []\n",
    "#     for filename in os.listdir(folder_path):\n",
    "#         audio, sr = librosa.load(os.path.join(folder_path, filename), sr=None)\n",
    "#         mfcc = librosa.feature.mfcc(y=audio, sr=sr, n_mfcc=128)\n",
    "#         mfccs.append(mfcc)\n",
    "#     return mfccs\n",
    "\n",
    "# MFFC 0.5\n",
    "\n",
    "# def get_data(folder_path):\n",
    "#     mfccs = []\n",
    "#     for filename in os.listdir(folder_path):\n",
    "#         audio, sr = librosa.load(os.path.join(folder_path, filename), sr=None)\n",
    "#         audio_parts = np.array_split(audio, 4)\n",
    "#         for part in audio_parts:\n",
    "#             mfcc = librosa.feature.mfcc(y=part, sr=sr, n_mfcc=128)\n",
    "#             mfccs.append(mfcc)\n",
    "#     return mfccs\n",
    "\n",
    "real = get_data(real_path)\n",
    "fake = get_data(fake_path)\n"
   ]
  },
  {
   "cell_type": "code",
   "execution_count": null,
   "id": "b36a0d5f-9216-45de-b8a4-2df4939bff05",
   "metadata": {},
   "outputs": [],
   "source": [
    "testR=np.array(real)\n",
    "testF=np.array(fake)"
   ]
  },
  {
   "cell_type": "code",
   "execution_count": null,
   "id": "469b5af3-48c6-464c-9b40-ae5be0720241",
   "metadata": {},
   "outputs": [],
   "source": [
    "testR = testR[..., np.newaxis]\n",
    "testF = testF[..., np.newaxis]"
   ]
  },
  {
   "cell_type": "code",
   "execution_count": null,
   "id": "e4be35e2-1580-4c03-b6bd-12f1964894c1",
   "metadata": {},
   "outputs": [],
   "source": [
    "print(len(real))"
   ]
  },
  {
   "cell_type": "code",
   "execution_count": null,
   "id": "e3332ae8-e7f0-4adf-b5fd-8e5bc080d435",
   "metadata": {
    "scrolled": true
   },
   "outputs": [],
   "source": [
    "predR = CNN_Spec.predict(testR)\n",
    "predF = CNN_Spec.predict(testF)"
   ]
  },
  {
   "cell_type": "code",
   "execution_count": null,
   "id": "c4a55736-01d3-43ea-ac80-0a6d9d08a970",
   "metadata": {},
   "outputs": [],
   "source": [
    "threshold = 0.5\n",
    "\n",
    "binary_predictionsR = [1 if pr < threshold else 0 for pr in predR]\n",
    "\n",
    "real_count = sum(binary_predictionsR)\n",
    "\n",
    "binary_predictionsF = [1 if pr > threshold else 0 for pr in predF]\n",
    "\n",
    "fake_count = sum(binary_predictionsF)\n",
    "\n",
    "print(\"Кількість справжніх:\", real_count, \"з\", len(predR))\n",
    "print(\"Кількість фальшивих:\", fake_count, \"з\", len(predF))\n",
    "acc = (real_count + fake_count) / (len(real)+len(fake))\n",
    "acc = \"{:.2f}\".format(acc*100)"
   ]
  },
  {
   "cell_type": "code",
   "execution_count": null,
   "id": "b1d5b3e3-e99f-42a1-9bca-ce195339974b",
   "metadata": {},
   "outputs": [],
   "source": [
    "from sklearn.metrics import confusion_matrix\n",
    "real_true_labels = [0] * len(real)\n",
    "fake_true_labels = [1] * len(fake)\n",
    "\n",
    "all_predicted_labels = np.concatenate((predR, predF))\n",
    "all_predicted_labels = np.where(all_predicted_labels < 0.5, 0, 1)\n",
    "all_true_labels = real_true_labels + fake_true_labels\n",
    "\n",
    "conf_matrix = confusion_matrix(all_true_labels, all_predicted_labels)\n",
    "print(conf_matrix)"
   ]
  },
  {
   "cell_type": "code",
   "execution_count": null,
   "id": "f43aa9ca-dca0-42ae-aaf8-891a485057b2",
   "metadata": {},
   "outputs": [],
   "source": [
    "import seaborn as sns\n",
    "sns.heatmap(conf_matrix, \n",
    "            annot=True,\n",
    "            fmt='g', \n",
    "            xticklabels=['Real','Fake'],\n",
    "            yticklabels=['Real','Fake'])\n",
    "plt.xlabel('Prediction',fontsize=13)\n",
    "plt.ylabel('Actual',fontsize=13)\n",
    "plt.title('Confusion Matrix',fontsize=17)\n",
    "plt.show()"
   ]
  }
 ],
 "metadata": {
  "kernelspec": {
   "display_name": "Python 3 (ipykernel)",
   "language": "python",
   "name": "python3"
  },
  "language_info": {
   "codemirror_mode": {
    "name": "ipython",
    "version": 3
   },
   "file_extension": ".py",
   "mimetype": "text/x-python",
   "name": "python",
   "nbconvert_exporter": "python",
   "pygments_lexer": "ipython3",
   "version": "3.11.8"
  }
 },
 "nbformat": 4,
 "nbformat_minor": 5
}
