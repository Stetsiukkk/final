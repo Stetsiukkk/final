{
 "cells": [
  {
   "cell_type": "code",
   "execution_count": null,
   "id": "4b46fff3-5516-43d8-84da-2532cdc77225",
   "metadata": {},
   "outputs": [],
   "source": [
    "import os\n",
    "import librosa\n",
    "import librosa.display\n",
    "import matplotlib.pyplot as plt\n",
    "import numpy as np\n",
    "\n",
    "# шлях до тренувальних справжніх даних\n",
    "real_path = \"\"\n",
    "# шлях до тренувальних синтезованих даних\n",
    "fake_path = \"\"\n",
    "real = []\n",
    "fake = []\n",
    "\n",
    "vreal_path = \"\"\n",
    "vfake_path = \"\"\n",
    "vreal = []\n",
    "vfake = []\n",
    "\n",
    "def get_mel_spectrogram(folder_path):\n",
    "    mel_specs = []\n",
    "    for filename in os.listdir(folder_path):\n",
    "        audio, sr = librosa.load(os.path.join(folder_path, filename), sr=None)\n",
    "        audio_parts = np.array_split(audio, 4)\n",
    "        for part in audio_parts:\n",
    "            mel_spec = librosa.feature.melspectrogram(y=part, sr=sr)\n",
    "            mel_specs.append(mel_spec)\n",
    "    return mel_specs\n",
    "\n",
    "real = get_mel_spectrogram(real_path)\n",
    "fake = get_mel_spectrogram(fake_path)\n",
    "\n",
    "vreal = get_mel_spectrogram(vreal_path)\n",
    "vfake = get_mel_spectrogram(vfake_path)"
   ]
  },
  {
   "cell_type": "code",
   "execution_count": null,
   "id": "70daa458-ee5b-4a38-808a-607bfeaa97b2",
   "metadata": {},
   "outputs": [],
   "source": [
    "print(\"Кількість тренувальних аудіофайлів real:\", len(real))\n",
    "print(\"Кількість тренувальних аудіофайлів fake:\", len(fake))\n",
    "\n",
    "print(\"Кількість валідаційних аудіофайлів real:\", len(vreal))\n",
    "print(\"Кількість валідаційних аудіофайлів fake:\", len(vfake))"
   ]
  },
  {
   "cell_type": "code",
   "execution_count": null,
   "id": "142fecd7-7269-44a1-8cac-792ad1f21afc",
   "metadata": {},
   "outputs": [],
   "source": [
    "from sklearn.model_selection import train_test_split\n",
    "import numpy as np\n",
    "\n",
    "real_labels = np.zeros(len(real))\n",
    "fake_labels = np.ones(len(fake))\n",
    "\n",
    "vreal_labels = np.zeros(len(vreal))\n",
    "vfake_labels = np.ones(len(vfake))\n",
    "\n",
    "X_train = np.concatenate((real, fake), axis=0)\n",
    "y_train = np.concatenate((real_labels, fake_labels), axis=0)\n",
    "\n",
    "X_val = np.concatenate((vreal, vfake), axis=0)\n",
    "y_val = np.concatenate((vreal_labels, vfake_labels), axis=0)\n",
    "\n",
    "shuffle_index_train = np.random.permutation(len(X_train))\n",
    "X_train_shuffled = X_train[shuffle_index_train]\n",
    "y_train_shuffled = y_train[shuffle_index_train]\n",
    "\n",
    "shuffle_index_val = np.random.permutation(len(X_val))\n",
    "X_val_shuffled = X_val[shuffle_index_val]\n",
    "y_val_shuffled = y_val[shuffle_index_val]\n",
    "\n",
    "print(\"Розмірність тренувальних даних:\", X_train_shuffled.shape)\n",
    "print(\"Розмірність тестових даних:\", X_val_shuffled.shape)\n",
    "print(\"Розмірність міток тренувальних даних:\", y_train_shuffled.shape)\n",
    "print(\"Розмірність міток тестових даних:\", y_val_shuffled.shape)\n",
    "X_train = X_train_shuffled[..., np.newaxis]\n",
    "X_test = X_val_shuffled[..., np.newaxis]\n",
    "print(\"Розмірність тренувальних даних:\", X_train.shape)\n",
    "print(\"Розмірність тестових даних:\", X_val.shape)"
   ]
  },
  {
   "cell_type": "code",
   "execution_count": null,
   "id": "36461292-afdd-4cfa-84a0-403418d1a557",
   "metadata": {},
   "outputs": [],
   "source": [
    "from tensorflow.keras.models import Sequential\n",
    "from tensorflow.keras.layers import Conv2D, MaxPooling2D, Flatten, Dense, Dropout\n",
    "\n",
    "model = Sequential([\n",
    "    Conv2D(32, (2, 2), activation='relu', input_shape=(X_train.shape[1:])),\n",
    "    MaxPooling2D((2, 2)),\n",
    "    Conv2D(64, (2, 2), activation='relu'),\n",
    "    MaxPooling2D((2, 2)),\n",
    "    Conv2D(128, (2, 2), activation='relu'),\n",
    "    MaxPooling2D((2, 2)),\n",
    "    Flatten(),\n",
    "    Dense(512, activation='relu'),\n",
    "    Dropout(0.5),\n",
    "    Dense(1, activation='sigmoid')\n",
    "])\n",
    "\n",
    "model.compile(optimizer='adam', loss='binary_crossentropy', metrics=['accuracy'])\n",
    "\n",
    "history = model.fit(X_train, y_train_shuffled, epochs=10, batch_size=32, validation_data=(X_test, y_val_shuffled))"
   ]
  },
  {
   "cell_type": "code",
   "execution_count": null,
   "id": "6da1d026-ac1f-4771-9f68-d95e08d4bfea",
   "metadata": {},
   "outputs": [],
   "source": [
    "model.save(\"Mel_Spec_CNN-05.keras\")"
   ]
  },
  {
   "cell_type": "code",
   "execution_count": null,
   "id": "e2bb8d4d-c30c-4113-93f3-f4d5b23a2212",
   "metadata": {},
   "outputs": [],
   "source": [
    "from tensorflow.keras.models import Sequential\n",
    "from tensorflow.keras.layers import LSTM, Dense, Input\n",
    "\n",
    "model = Sequential([\n",
    "    Input(shape=(X_train.shape[1], X_train.shape[2])),\n",
    "    LSTM(64),\n",
    "    Dense(1, activation='sigmoid')\n",
    "])\n",
    "\n",
    "model.compile(optimizer='adam', loss='binary_crossentropy', metrics=['accuracy'])\n",
    "\n",
    "history = model.fit(X_train, y_train_shuffled, epochs=10, batch_size=32, validation_data=(X_test, y_val_shuffled))"
   ]
  },
  {
   "cell_type": "code",
   "execution_count": null,
   "id": "76950809-4231-460a-98dc-c43149eb8337",
   "metadata": {},
   "outputs": [],
   "source": [
    "model.save(\"Mel_Spec_LSTM-05.keras\")"
   ]
  }
 ],
 "metadata": {
  "kernelspec": {
   "display_name": "Python 3 (ipykernel)",
   "language": "python",
   "name": "python3"
  },
  "language_info": {
   "codemirror_mode": {
    "name": "ipython",
    "version": 3
   },
   "file_extension": ".py",
   "mimetype": "text/x-python",
   "name": "python",
   "nbconvert_exporter": "python",
   "pygments_lexer": "ipython3",
   "version": "3.11.8"
  }
 },
 "nbformat": 4,
 "nbformat_minor": 5
}
