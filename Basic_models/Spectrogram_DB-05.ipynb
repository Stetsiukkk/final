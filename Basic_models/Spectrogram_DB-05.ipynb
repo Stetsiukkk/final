{
 "cells": [
  {
   "cell_type": "code",
   "execution_count": null,
   "id": "89c57ca2-7967-4a3a-bfff-869c34382976",
   "metadata": {},
   "outputs": [],
   "source": [
    "import os\n",
    "import librosa\n",
    "import librosa.display\n",
    "import matplotlib.pyplot as plt\n",
    "import numpy as np\n",
    "\n",
    "# шлях до тренувальних справжніх даних\n",
    "real_path = \"\"\n",
    "# шлях до тренувальних синтезованих даних\n",
    "fake_path = \"\"\n",
    "real = []\n",
    "fake = []\n",
    "\n",
    "vreal_path = \"\"\n",
    "vfake_path = \"\"\n",
    "vreal = []\n",
    "vfake = []\n",
    "\n",
    "def get_spectrogram(folder_path):\n",
    "    specs = []    \n",
    "    for filename in os.listdir(folder_path):\n",
    "        audio, sr = librosa.load(os.path.join(folder_path, filename), sr=None)\n",
    "        audio_parts = np.array_split(audio, 4)\n",
    "        for part in audio_parts:\n",
    "            spectrogram = abs(librosa.stft(y=part))\n",
    "            spectrogram = librosa.amplitude_to_db(spectrogram, ref=np.max)\n",
    "            specs.append(spectrogram)\n",
    "    return specs\n",
    "\n",
    "real = get_spectrogram(real_path)\n",
    "fake = get_spectrogram(fake_path)\n",
    "\n",
    "vreal = get_spectrogram(vreal_path)\n",
    "vfake = get_spectrogram(vfake_path)\n"
   ]
  },
  {
   "cell_type": "code",
   "execution_count": null,
   "id": "cab39b03-f044-4021-9e2f-3b5d18fc21d9",
   "metadata": {},
   "outputs": [],
   "source": [
    "from sklearn.model_selection import train_test_split\n",
    "import numpy as np\n",
    "\n",
    "real_labels = np.zeros(len(real))\n",
    "fake_labels = np.ones(len(fake))\n",
    "\n",
    "vreal_labels = np.zeros(len(vreal))\n",
    "vfake_labels = np.ones(len(vfake))\n",
    "\n",
    "X_train = np.concatenate((real, fake), axis=0)\n",
    "y_train = np.concatenate((real_labels, fake_labels), axis=0)\n",
    "\n",
    "X_val = np.concatenate((vreal, vfake), axis=0)\n",
    "y_val = np.concatenate((vreal_labels, vfake_labels), axis=0)\n",
    "\n",
    "shuffle_index_train = np.random.permutation(len(X_train))\n",
    "X_train_shuffled = X_train[shuffle_index_train]\n",
    "y_train_shuffled = y_train[shuffle_index_train]\n",
    "\n",
    "shuffle_index_val = np.random.permutation(len(X_val))\n",
    "X_val_shuffled = X_val[shuffle_index_val]\n",
    "y_val_shuffled = y_val[shuffle_index_val]\n",
    "\n",
    "print(\"Розмірність тренувальних даних:\", X_train_shuffled.shape)\n",
    "print(\"Розмірність тестових даних:\", X_val_shuffled.shape)\n",
    "print(\"Розмірність міток тренувальних даних:\", y_train_shuffled.shape)\n",
    "print(\"Розмірність міток тестових даних:\", y_val_shuffled.shape)\n",
    "\n",
    "X_train = X_train_shuffled[..., np.newaxis]\n",
    "X_test = X_val_shuffled[..., np.newaxis]"
   ]
  },
  {
   "cell_type": "code",
   "execution_count": null,
   "id": "1d53cb10-33a6-4335-a051-de833ec6b851",
   "metadata": {},
   "outputs": [],
   "source": [
    "from tensorflow.keras.models import Sequential\n",
    "from tensorflow.keras.layers import Conv2D, MaxPooling2D, Flatten, Dense, Dropout\n",
    "\n",
    "model = Sequential([\n",
    "    Conv2D(16, (3, 3), activation='relu', input_shape=(X_train.shape[1:])),\n",
    "    MaxPooling2D((2, 2)),\n",
    "    Conv2D(32, (3, 3), activation='relu'),\n",
    "    MaxPooling2D((2, 2)),\n",
    "    Flatten(),\n",
    "    Dense(128, activation='relu'),\n",
    "    Dropout(0.5),\n",
    "    Dense(1, activation='sigmoid')\n",
    "])\n",
    "\n",
    "model.compile(optimizer='adam', loss='binary_crossentropy', metrics=['accuracy'])\n",
    "\n",
    "history = model.fit(X_train, y_train_shuffled, epochs=10, batch_size=32, validation_data=(X_test, y_val_shuffled))"
   ]
  },
  {
   "cell_type": "code",
   "execution_count": null,
   "id": "92116e3f-0e27-467e-8626-a2be37c569e9",
   "metadata": {},
   "outputs": [],
   "source": [
    "model.save('CNN_Spec_DB-05.keras')"
   ]
  },
  {
   "cell_type": "code",
   "execution_count": null,
   "id": "d15c4beb-737b-44a9-be14-a8c68fbd9d00",
   "metadata": {},
   "outputs": [],
   "source": [
    "from tensorflow.keras.models import Sequential\n",
    "from tensorflow.keras.layers import LSTM, Dense, Input\n",
    "\n",
    "model = Sequential([\n",
    "    Input(shape=(X_train.shape[1], X_train.shape[2])),\n",
    "    LSTM(64),\n",
    "    Dense(1, activation='sigmoid')\n",
    "])\n",
    "\n",
    "model.compile(optimizer='adam', loss='binary_crossentropy', metrics=['accuracy'])\n",
    "\n",
    "history = model.fit(X_train, y_train_shuffled, epochs=1, batch_size=32, validation_data=(X_test, y_val_shuffled))"
   ]
  },
  {
   "cell_type": "code",
   "execution_count": null,
   "id": "f67ca631-5972-4a9c-b045-9c6e1a61f634",
   "metadata": {},
   "outputs": [],
   "source": [
    "model.save('LSTM_Spec_DB-05.keras')"
   ]
  }
 ],
 "metadata": {
  "kernelspec": {
   "display_name": "Python 3 (ipykernel)",
   "language": "python",
   "name": "python3"
  },
  "language_info": {
   "codemirror_mode": {
    "name": "ipython",
    "version": 3
   },
   "file_extension": ".py",
   "mimetype": "text/x-python",
   "name": "python",
   "nbconvert_exporter": "python",
   "pygments_lexer": "ipython3",
   "version": "3.11.8"
  }
 },
 "nbformat": 4,
 "nbformat_minor": 5
}
