{
 "cells": [
  {
   "cell_type": "code",
   "execution_count": null,
   "id": "ebe50ca4-1c3c-4514-98bf-4f8f20cd4a39",
   "metadata": {},
   "outputs": [],
   "source": [
    "import numpy as np\n",
    "import pandas as pd\n",
    "from sklearn.svm import SVC\n",
    "from sklearn.ensemble import RandomForestClassifier\n",
    "from tensorflow.keras.models import Sequential\n",
    "from tensorflow.keras.layers import Input, Dense, BatchNormalization, Dropout\n",
    "from tensorflow.keras.regularizers import l2\n",
    "from tensorflow.keras.callbacks import ReduceLROnPlateau\n",
    "from tensorflow.keras.optimizers import Adam\n",
    "from sklearn.model_selection import train_test_split\n",
    "\n",
    "def reshape_to_4(array):\n",
    "    return array.reshape(-1, 4)\n",
    "\n",
    "train_predR = reshape_to_4(pd.read_csv('X_ensembleRSpred.csv').values)\n",
    "train_predF = reshape_to_4(pd.read_csv('X_ensembleFSpred.csv').values)\n",
    "train_LSTMpredR = reshape_to_4(pd.read_csv('X_ensembleRMpred.csv').values)\n",
    "train_LSTMpredF = reshape_to_4(pd.read_csv('X_ensembleFMpred.csv').values)\n",
    "\n",
    "val_predR = reshape_to_4(pd.read_csv('vrealMpred.csv').values)\n",
    "val_predF = reshape_to_4(pd.read_csv('vfakeSpred.csv').values)\n",
    "val_LSTMpredR = reshape_to_4(pd.read_csv('vrealMpred.csv').values)\n",
    "val_LSTMpredF = reshape_to_4(pd.read_csv('vfakeMpred.csv').values)\n",
    "\n",
    "test_predR = reshape_to_4(pd.read_csv('trealSpred.csv').values)\n",
    "test_predF = reshape_to_4(pd.read_csv('tfakeSpred.csv').values)\n",
    "test_LSTMpredR = reshape_to_4(pd.read_csv('trealMpred.csv').values)\n",
    "test_LSTMpredF = reshape_to_4(pd.read_csv('tfakeMpred.csv').values)\n"
   ]
  },
  {
   "cell_type": "code",
   "execution_count": null,
   "id": "be411b1a-de9f-44cf-a894-ceb51feae244",
   "metadata": {},
   "outputs": [],
   "source": [
    "X_train = np.vstack((np.hstack((train_predR, train_LSTMpredR)),  \n",
    "                          np.hstack((train_predF, train_LSTMpredF))))  \n",
    "\n",
    "X_val = np.vstack((np.hstack((val_predR, val_LSTMpredR)),  \n",
    "                         np.hstack((val_predF, val_LSTMpredF))))  \n",
    "\n",
    "X_test = np.vstack((np.hstack((test_predR, test_LSTMpredR)),  \n",
    "                         np.hstack((test_predF, test_LSTMpredF))))  \n",
    "\n",
    "\n",
    "y_train = np.vstack((np.ones((train_predR.shape[0], 1)),  \n",
    "                          np.zeros((train_predF.shape[0], 1))))  \n",
    "\n",
    "y_val = np.vstack((np.ones((val_predR.shape[0], 1)),  \n",
    "                          np.zeros((val_predF.shape[0], 1))))  \n",
    "\n",
    "y_test = np.vstack((np.ones((test_predR.shape[0], 1)),  \n",
    "                         np.zeros((test_predF.shape[0], 1))))  "
   ]
  },
  {
   "cell_type": "code",
   "execution_count": null,
   "id": "2009356f-314d-45e9-84b4-f56a7ca7e8e2",
   "metadata": {},
   "outputs": [],
   "source": [
    "# from tensorflow.keras.callbacks import Callback\n",
    "\n",
    "# class ValidationCallback(Callback):\n",
    "#     def __init__(self, val_data, val_labels):\n",
    "#         self.val_data = val_data\n",
    "#         self.val_labels = val_labels\n",
    "\n",
    "#     def on_epoch_end(self, epoch, logs=None):\n",
    "#         val_loss, val_acc = self.model.evaluate(self.val_data, self.val_labels, verbose=0)\n",
    "#         print(f\"\\nEpoch {epoch+1}: Test Loss: {val_loss:.4f}, Test Acc: {val_acc:.4f}\")"
   ]
  },
  {
   "cell_type": "code",
   "execution_count": null,
   "id": "9389abe5-f6ab-4ecf-97c9-fb71f06e6131",
   "metadata": {},
   "outputs": [],
   "source": [
    "mlp_model = Sequential([\n",
    "    Input(shape=(X_train.shape[1],)),\n",
    "    Dense(32, activation='relu', kernel_regularizer=l2(0.001)),\n",
    "    BatchNormalization(),\n",
    "    \n",
    "    Dense(64, activation='relu', kernel_regularizer=l2(0.001)),\n",
    "    BatchNormalization(),\n",
    "\n",
    "    Dense(64, activation='relu'),\n",
    "    BatchNormalization(),\n",
    "    \n",
    "    Dense(1, activation='sigmoid')\n",
    "])\n",
    "optimizer = Adam(learning_rate=0.0005)\n",
    "\n",
    "mlp_model.compile(loss='binary_crossentropy', optimizer=optimizer, metrics=['accuracy'])\n",
    "\n",
    "#validation_callback = ValidationCallback(X_test, y_test)\n",
    "\n",
    "# mlp_model.fit(X_train, y_train, \n",
    "#               epochs=20, batch_size=512, \n",
    "#               validation_data=(X_val, y_val),\n",
    "#               verbose=1,\n",
    "#               callbacks=[validation_callback])\n",
    "\n",
    "mlp_model.fit(X_train, y_train, \n",
    "              epochs=15, batch_size=512, \n",
    "              #validation_data=(X_val, y_val),\n",
    "              verbose=1)\n",
    "\n",
    "\n",
    "mlp_accuracy1 = mlp_model.evaluate(X_val, y_val, verbose=0)[1]\n",
    "mlp_accuracy2 = mlp_model.evaluate(X_test, y_test, verbose=0)[1]\n",
    "\n",
    "print(f\"Точність MLP на схожих тестових: {mlp_accuracy1 * 100:.2f}%\")\n",
    "print(f\"Точність MLP на нових тестових: {mlp_accuracy2 * 100:.2f}%\")"
   ]
  },
  {
   "cell_type": "code",
   "execution_count": null,
   "id": "0f95f222-9108-41be-94e4-ccfdfb149ffa",
   "metadata": {},
   "outputs": [],
   "source": [
    "svm_model = SVC(probability=True)\n",
    "svm_model.fit(X_train, y_train.ravel())\n",
    "\n",
    "svm_acc1 = svm_model.score(X_val, y_val)\n",
    "svm_acc2 = svm_model.score(X_test, y_test)\n",
    "print(f\"Точність SVM на на схожих тестових: {svm_acc1 * 100:.2f}%\")\n",
    "print(f\"Точність SVM на на нових тестових: {svm_acc2 * 100:.2f}%\")"
   ]
  },
  {
   "cell_type": "code",
   "execution_count": null,
   "id": "30e3bf61-0d22-4e56-87cb-6f71268af394",
   "metadata": {},
   "outputs": [],
   "source": [
    "rf_model = RandomForestClassifier(n_estimators=10, max_depth=8, random_state=42)\n",
    "rf_model.fit(X_train, y_train.ravel())\n",
    "\n",
    "rf_acc1 = rf_model.score(X_val, y_val)\n",
    "rf_acc2 = rf_model.score(X_test, y_test)\n",
    "print(f\"Точність Random Forest на схожих тестових: {rf_acc1 * 100:.2f}%\")\n",
    "print(f\"Точність Random Forest на нових тестових: {rf_acc2 * 100:.2f}%\")"
   ]
  },
  {
   "cell_type": "code",
   "execution_count": null,
   "id": "b4a2c383-0aba-4e07-8a79-6f40bca10832",
   "metadata": {},
   "outputs": [],
   "source": []
  }
 ],
 "metadata": {
  "kernelspec": {
   "display_name": "Python 3 (ipykernel)",
   "language": "python",
   "name": "python3"
  },
  "language_info": {
   "codemirror_mode": {
    "name": "ipython",
    "version": 3
   },
   "file_extension": ".py",
   "mimetype": "text/x-python",
   "name": "python",
   "nbconvert_exporter": "python",
   "pygments_lexer": "ipython3",
   "version": "3.11.8"
  }
 },
 "nbformat": 4,
 "nbformat_minor": 5
}
